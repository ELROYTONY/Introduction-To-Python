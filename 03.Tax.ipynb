{
  "nbformat": 4,
  "nbformat_minor": 0,
  "metadata": {
    "colab": {
      "name": "tax",
      "provenance": []
    },
    "kernelspec": {
      "name": "python3",
      "display_name": "Python 3"
    },
    "language_info": {
      "name": "python"
    }
  },
  "cells": [
    {
      "cell_type": "code",
      "execution_count": 24,
      "metadata": {
        "id": "V9gYs-_dxt0z"
      },
      "outputs": [],
      "source": [
        "x=20"
      ]
    },
    {
      "cell_type": "code",
      "source": [
        "if x>10 :\n",
        "  print('x>10')"
      ],
      "metadata": {
        "colab": {
          "base_uri": "https://localhost:8080/"
        },
        "id": "MWs7e99M0jQj",
        "outputId": "feba80bd-d902-4cee-fc36-af4aace07df9"
      },
      "execution_count": 25,
      "outputs": [
        {
          "output_type": "stream",
          "name": "stdout",
          "text": [
            "x>10\n"
          ]
        }
      ]
    },
    {
      "cell_type": "code",
      "source": [
        "x=20\n",
        "if x>10:\n",
        "  print('x>10')\n",
        "if x<10:\n",
        "  print('x<10')\n",
        "if x==10:\n",
        "  print('x==10')"
      ],
      "metadata": {
        "colab": {
          "base_uri": "https://localhost:8080/"
        },
        "id": "x6XwO6OV1Lr0",
        "outputId": "a0cd002d-c62d-42d1-8d9e-7e103a350827"
      },
      "execution_count": 26,
      "outputs": [
        {
          "output_type": "stream",
          "name": "stdout",
          "text": [
            "x>10\n"
          ]
        }
      ]
    },
    {
      "cell_type": "code",
      "source": [
        "x=int(input('enter the number'))\n",
        "if x>10:\n",
        "  print('pass')\n",
        "if x<10:\n",
        "  print('fail')\n",
        "if x==10:\n",
        "  print('pass')\n"
      ],
      "metadata": {
        "colab": {
          "base_uri": "https://localhost:8080/"
        },
        "id": "mOeYINi_3hmj",
        "outputId": "b46b2d9a-6bd0-4af2-d199-15f736d49a84"
      },
      "execution_count": 27,
      "outputs": [
        {
          "output_type": "stream",
          "name": "stdout",
          "text": [
            "enter the number11\n",
            "pass\n"
          ]
        }
      ]
    },
    {
      "cell_type": "code",
      "source": [
        "x=int(input('enter the salary'))\n",
        "if x>250000:\n",
        "  print(x*10/100)\n",
        "if x<=250000:\n",
        "  print('no tax')\n"
      ],
      "metadata": {
        "colab": {
          "base_uri": "https://localhost:8080/"
        },
        "id": "FLZdLRc0-HaM",
        "outputId": "c5fc7ee1-d341-479b-a238-4d705c6fd1b1"
      },
      "execution_count": 28,
      "outputs": [
        {
          "output_type": "stream",
          "name": "stdout",
          "text": [
            "enter the salary600000\n",
            "60000.0\n"
          ]
        }
      ]
    },
    {
      "cell_type": "code",
      "source": [
        ""
      ],
      "metadata": {
        "id": "XF3aJIY9DPcC"
      },
      "execution_count": 28,
      "outputs": []
    }
  ]
}